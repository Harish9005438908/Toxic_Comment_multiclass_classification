{
 "cells": [
  {
   "cell_type": "code",
   "execution_count": 20,
   "id": "50c11cfd",
   "metadata": {},
   "outputs": [],
   "source": [
    "import pandas as pd\n",
    "import numpy as np\n",
    "import re\n",
    "import os\n",
    "from sklearn.model_selection import train_test_split\n",
    "from sklearn.feature_extraction.text import TfidfVectorizer, ENGLISH_STOP_WORDS\n",
    "from sklearn.linear_model import LogisticRegression\n",
    "from sklearn.ensemble import RandomForestClassifier\n",
    "from sklearn.svm import SVC\n",
    "from sklearn.metrics import accuracy_score, precision_score, recall_score, f1_score\n",
    "import matplotlib.pyplot as plt\n",
    "import joblib\n",
    "from collections import Counter"
   ]
  },
  {
   "cell_type": "code",
   "execution_count": 3,
   "id": "cea9c7e3",
   "metadata": {},
   "outputs": [],
   "source": [
    "# Set a random seed for reproducibility\n",
    "np.random.seed(42)"
   ]
  },
  {
   "cell_type": "code",
   "execution_count": 4,
   "id": "6d65cff7",
   "metadata": {},
   "outputs": [],
   "source": [
    "# Define the toxicity labels\n",
    "TOXICITY_LABELS = ['toxic', 'severe_toxic', 'obscene', 'threat', 'insult', 'identity_hate']"
   ]
  },
  {
   "cell_type": "code",
   "execution_count": 5,
   "id": "d5eeb61b",
   "metadata": {},
   "outputs": [
    {
     "name": "stdout",
     "output_type": "stream",
     "text": [
      "Step 1: Loading and preprocessing the dataset...\n"
     ]
    }
   ],
   "source": [
    "# -----------------------------------------------------------------------------\n",
    "# 1. Data Loading and Basic Preprocessing\n",
    "# -----------------------------------------------------------------------------\n",
    "print(\"Step 1: Loading and preprocessing the dataset...\")\n",
    "\n",
    "try:\n",
    "    df = pd.read_csv(\"C:\\\\Users\\\\91870\\\\train.csv\")\n",
    "    # Fill any missing values in the 'comment_text' column\n",
    "    df['comment_text'].fillna('', inplace=True)\n",
    "except FileNotFoundError:\n",
    "    print(\"Error: 'train.csv' not found. Please upload the file to your Colab environment.\")\n",
    "    exit()"
   ]
  },
  {
   "cell_type": "code",
   "execution_count": 21,
   "id": "d2f5e5ed",
   "metadata": {},
   "outputs": [],
   "source": [
    "# Preprocessing function to clean the text and remove stopwords\n",
    "def preprocess_text(text):\n",
    "    # Convert text to lowercase\n",
    "    text = text.lower()\n",
    "    # Remove special characters, numbers, and punctuation\n",
    "    text = re.sub(r'[^a-z\\s]', '', text)\n",
    "    # Remove extra whitespaces\n",
    "    text = re.sub(r'\\s+', ' ', text).strip()\n",
    "    # --- HIGHLIGHTED CHANGE: REMOVE STOPWORDS EXPLICITLY ---\n",
    "    # Split the text into words\n",
    "    words = text.split()\n",
    "    # Filter out stopwords\n",
    "    filtered_words = [word for word in words if word not in ENGLISH_STOP_WORDS]\n",
    "    # Join the words back into a single string\n",
    "    return \" \".join(filtered_words)"
   ]
  },
  {
   "cell_type": "code",
   "execution_count": 22,
   "id": "b9565f8e",
   "metadata": {},
   "outputs": [
    {
     "name": "stdout",
     "output_type": "stream",
     "text": [
      "Training set size: 127656\n",
      "Testing set size: 31915\n"
     ]
    }
   ],
   "source": [
    "# Apply the preprocessing function to the 'comment_text' column\n",
    "df['comment_text'] = df['comment_text'].apply(preprocess_text)\n",
    "\n",
    "# Create a single binary label for basic classification (toxic or not)\n",
    "# A comment is considered toxic if any of the six labels are true (1).\n",
    "df['is_toxic'] = (df[TOXICITY_LABELS].sum(axis=1) > 0).astype(int)\n",
    "\n",
    "# Split the data into features (X) and target (y)\n",
    "X = df['comment_text']\n",
    "y = df['is_toxic']\n",
    "\n",
    "# Split the data into training and testing sets (80% train, 20% test)\n",
    "X_train, X_test, y_train, y_test = train_test_split(X, y, test_size=0.2, random_state=42, stratify=y)\n",
    "\n",
    "print(f\"Training set size: {len(X_train)}\")\n",
    "print(f\"Testing set size: {len(X_test)}\")"
   ]
  },
  {
   "cell_type": "code",
   "execution_count": null,
   "id": "48efb2b3",
   "metadata": {},
   "outputs": [],
   "source": [
    "all_comments = ' '.join(X) # Combine all comments into a single string for word frequency analysis"
   ]
  },
  {
   "cell_type": "code",
   "execution_count": 24,
   "id": "ff4377b5",
   "metadata": {},
   "outputs": [],
   "source": [
    "all_words = all_comments.split()\n",
    "unique_words = set(all_words)\n",
    "total_unique_words = len(unique_words)"
   ]
  },
  {
   "cell_type": "code",
   "execution_count": 25,
   "id": "1ce58ba4",
   "metadata": {},
   "outputs": [
    {
     "name": "stdout",
     "output_type": "stream",
     "text": [
      "\n",
      "Total number of unique words in the dataset: 223642\n"
     ]
    }
   ],
   "source": [
    "print(f\"\\nTotal number of unique words in the dataset: {total_unique_words}\")"
   ]
  },
  {
   "cell_type": "code",
   "execution_count": 26,
   "id": "e947670f",
   "metadata": {},
   "outputs": [],
   "source": [
    "word_counts = Counter(all_words)"
   ]
  },
  {
   "cell_type": "code",
   "execution_count": 27,
   "id": "465c3eb3",
   "metadata": {},
   "outputs": [],
   "source": [
    "# Convert the Counter object to a DataFrame for easy visualization and analysis\n",
    "word_counts_df = pd.DataFrame(word_counts.items(), columns=['Word', 'Frequency'])"
   ]
  },
  {
   "cell_type": "code",
   "execution_count": 28,
   "id": "bf030d9b",
   "metadata": {},
   "outputs": [],
   "source": [
    "# Sort the DataFrame by frequency in descending order\n",
    "word_counts_df = word_counts_df.sort_values(by='Frequency', ascending=False)"
   ]
  },
  {
   "cell_type": "code",
   "execution_count": 40,
   "id": "37baa799",
   "metadata": {},
   "outputs": [
    {
     "name": "stdout",
     "output_type": "stream",
     "text": [
      "\n",
      "Top 20 Most Frequent Words:\n",
      "     Word  Frequency\n",
      "  article      55434\n",
      "     page      45669\n",
      "wikipedia      35601\n",
      "     talk      31518\n",
      "     just      27715\n",
      "     like      27706\n",
      "     dont      26102\n",
      "    think      20041\n",
      "       im      19476\n",
      "     know      18994\n"
     ]
    }
   ],
   "source": [
    "# Display the top 20 most frequent words\n",
    "print(\"\\nTop 20 Most Frequent Words:\")\n",
    "print(word_counts_df.head(10).to_string(index=False))"
   ]
  },
  {
   "cell_type": "code",
   "execution_count": 41,
   "id": "978e3a9e",
   "metadata": {},
   "outputs": [
    {
     "name": "stdout",
     "output_type": "stream",
     "text": [
      "\n",
      "Step 2: Performing TF-IDF feature extraction...\n",
      "Shape of training data after vectorization: (127656, 5000)\n"
     ]
    }
   ],
   "source": [
    "# -----------------------------------------------------------------------------\n",
    "# 2. Feature Extraction (TF-IDF)\n",
    "# -----------------------------------------------------------------------------\n",
    "print(\"\\nStep 2: Performing TF-IDF feature extraction...\")\n",
    "\n",
    "# Initialize the TF-IDF Vectorizer\n",
    "# NOTE: The 'stop_words' parameter is now removed since it's handled in preprocessing.\n",
    "vectorizer = TfidfVectorizer(max_features=5000, ngram_range=(1, 2))\n",
    "\n",
    "# Fit the vectorizer on the training data and transform it\n",
    "X_train_vectorized = vectorizer.fit_transform(X_train)\n",
    "# Transform the test data using the *same* fitted vectorizer\n",
    "X_test_vectorized = vectorizer.transform(X_test)\n",
    "\n",
    "print(f\"Shape of training data after vectorization: {X_train_vectorized.shape}\")"
   ]
  },
  {
   "cell_type": "code",
   "execution_count": 42,
   "id": "23268075",
   "metadata": {},
   "outputs": [
    {
     "name": "stdout",
     "output_type": "stream",
     "text": [
      "\n",
      "Step 3: Training and evaluating the models...\n",
      "\n",
      "Training Logistic Regression...\n",
      "--- Logistic Regression Metrics ---\n",
      "Accuracy: 0.9554\n",
      "Precision: 0.9130\n",
      "Recall: 0.6210\n",
      "F1-Score: 0.7392\n",
      "\n",
      "Training Random Forest...\n",
      "--- Random Forest Metrics ---\n",
      "Accuracy: 0.9521\n",
      "Precision: 0.8348\n",
      "Recall: 0.6589\n",
      "F1-Score: 0.7365\n",
      "\n",
      "Training SVM...\n",
      "--- SVM Metrics ---\n",
      "Accuracy: 0.9559\n",
      "Precision: 0.8985\n",
      "Recall: 0.6385\n",
      "F1-Score: 0.7465\n",
      "\n",
      "--- Summary of all models ---\n",
      "                     Accuracy  Precision    Recall  F1-Score\n",
      "Logistic Regression  0.955444   0.913004  0.620955  0.739178\n",
      "Random Forest        0.952060   0.834830  0.658860  0.736480\n",
      "SVM                  0.955914   0.898526  0.638521  0.746532\n"
     ]
    }
   ],
   "source": [
    "# -----------------------------------------------------------------------------\n",
    "# 3. Model Training and Evaluation\n",
    "# -----------------------------------------------------------------------------\n",
    "print(\"\\nStep 3: Training and evaluating the models...\")\n",
    "\n",
    "# Dictionary to store models and their performance metrics\n",
    "models = {\n",
    "    'Logistic Regression': LogisticRegression(solver='liblinear', random_state=42),\n",
    "    'Random Forest': RandomForestClassifier(n_estimators=100, random_state=42),\n",
    "    'SVM': SVC(kernel='linear', random_state=42)\n",
    "}\n",
    "\n",
    "results = pd.DataFrame(columns=['Accuracy', 'Precision', 'Recall', 'F1-Score'])\n",
    "\n",
    "for name, model in models.items():\n",
    "    print(f\"\\nTraining {name}...\")\n",
    "    model.fit(X_train_vectorized, y_train)\n",
    "    \n",
    "    # Make predictions on the test set\n",
    "    y_pred = model.predict(X_test_vectorized)\n",
    "    \n",
    "    # Calculate performance metrics\n",
    "    accuracy = accuracy_score(y_test, y_pred)\n",
    "    precision = precision_score(y_test, y_pred)\n",
    "    recall = recall_score(y_test, y_pred)\n",
    "    f1 = f1_score(y_test, y_pred)\n",
    "    \n",
    "    # Store the results\n",
    "    results.loc[name] = [accuracy, precision, recall, f1]\n",
    "    \n",
    "    print(f\"--- {name} Metrics ---\")\n",
    "    print(f\"Accuracy: {accuracy:.4f}\")\n",
    "    print(f\"Precision: {precision:.4f}\")\n",
    "    print(f\"Recall: {recall:.4f}\")\n",
    "    print(f\"F1-Score: {f1:.4f}\")\n",
    "\n",
    "print(\"\\n--- Summary of all models ---\")\n",
    "print(results)"
   ]
  },
  {
   "cell_type": "code",
   "execution_count": 43,
   "id": "e7f0ccd6",
   "metadata": {},
   "outputs": [
    {
     "name": "stdout",
     "output_type": "stream",
     "text": [
      "\n",
      "Step 4: Saving the best performing model to a folder...\n",
      "The best performing model is: SVM\n",
      "Best model saved to: ./saved_models\\best_toxic_model.joblib\n",
      "Vectorizer saved to: ./saved_models\\tfidf_vectorizer.joblib\n"
     ]
    }
   ],
   "source": [
    "# -----------------------------------------------------------------------------\n",
    "# 4. Save the Best Model\n",
    "# -----------------------------------------------------------------------------\n",
    "print(\"\\nStep 4: Saving the best performing model to a folder...\")\n",
    "\n",
    "# Create a folder to save the models if it doesn't exist\n",
    "save_directory = \"./saved_models\"\n",
    "if not os.path.exists(save_directory):\n",
    "    os.makedirs(save_directory)\n",
    "\n",
    "# Find the best model based on F1-Score\n",
    "best_model_name = results['F1-Score'].idxmax()\n",
    "best_model = models[best_model_name]\n",
    "print(f\"The best performing model is: {best_model_name}\")\n",
    "\n",
    "# Save the best model and the vectorizer to the new folder\n",
    "best_model_path = os.path.join(save_directory, 'best_toxic_model.joblib')\n",
    "vectorizer_path = os.path.join(save_directory, 'tfidf_vectorizer.joblib')\n",
    "\n",
    "joblib.dump(best_model, best_model_path)\n",
    "joblib.dump(vectorizer, vectorizer_path)\n",
    "print(f\"Best model saved to: {best_model_path}\")\n",
    "print(f\"Vectorizer saved to: {vectorizer_path}\")"
   ]
  },
  {
   "cell_type": "code",
   "execution_count": 44,
   "id": "c33af37d",
   "metadata": {},
   "outputs": [
    {
     "name": "stdout",
     "output_type": "stream",
     "text": [
      "\n",
      "Step 5: Making a prediction on a random sentence...\n",
      "\n",
      "Sentence: 'you are an idiot.'\n",
      "Prediction: Toxic\n"
     ]
    }
   ],
   "source": [
    "# -----------------------------------------------------------------------------\n",
    "# 5. Predict on a New Sentence\n",
    "# -----------------------------------------------------------------------------\n",
    "print(\"\\nStep 5: Making a prediction on a random sentence...\")\n",
    "\n",
    "# Load the saved model and vectorizer\n",
    "loaded_model = joblib.load(best_model_path)\n",
    "loaded_vectorizer = joblib.load(vectorizer_path)\n",
    "\n",
    "# Define a random sentence to predict\n",
    "random_sentence = \"you are an idiot.\"\n",
    "# You can also try a non-toxic sentence:\n",
    "# random_sentence = \"What a lovely day, the sun is shining brightly.\"\n",
    "\n",
    "# Preprocess the new sentence\n",
    "preprocessed_sentence = preprocess_text(random_sentence)\n",
    "\n",
    "# Vectorize the preprocessed sentence using the loaded vectorizer\n",
    "sentence_vectorized = loaded_vectorizer.transform([preprocessed_sentence])\n",
    "\n",
    "# Make a prediction\n",
    "prediction = loaded_model.predict(sentence_vectorized)[0]\n",
    "\n",
    "# Convert the prediction to a human-readable format\n",
    "prediction_label = \"Toxic\" if prediction == 1 else \"Not Toxic\"\n",
    "print(f\"\\nSentence: '{random_sentence}'\")\n",
    "print(f\"Prediction: {prediction_label}\")"
   ]
  },
  {
   "cell_type": "code",
   "execution_count": 45,
   "id": "556203cf",
   "metadata": {},
   "outputs": [
    {
     "name": "stdout",
     "output_type": "stream",
     "text": [
      "\n",
      "Step 6: Creating a visualization of model performance...\n"
     ]
    },
    {
     "data": {
      "image/png": "[encoded data removed]",
      "text/plain": [
       "<Figure size 1000x600 with 1 Axes>"
      ]
     },
     "metadata": {},
     "output_type": "display_data"
    }
   ],
   "source": [
    "# -----------------------------------------------------------------------------\n",
    "# 6. Visualization of Results\n",
    "# -----------------------------------------------------------------------------\n",
    "print(\"\\nStep 6: Creating a visualization of model performance...\")\n",
    "\n",
    "# Get the F1-Scores for visualization\n",
    "model_names = results.index\n",
    "f1_scores = results['F1-Score']\n",
    "\n",
    "# Create the bar chart\n",
    "plt.figure(figsize=(10, 6))\n",
    "plt.bar(model_names, f1_scores, color=['skyblue', 'salmon', 'lightgreen'])\n",
    "plt.title('F1-Score Comparison of Machine Learning Models')\n",
    "plt.xlabel('Algorithm')\n",
    "plt.ylabel('F1-Score')\n",
    "plt.ylim(0, 1)  # Set the y-axis limit for better comparison\n",
    "\n",
    "# Add the F1-Score values on top of the bars\n",
    "for i, score in enumerate(f1_scores):\n",
    "    plt.text(i, score + 0.02, f'{score:.4f}', ha='center', fontsize=12)\n",
    "\n",
    "plt.show()\n"
   ]
  },
  {
   "cell_type": "code",
   "execution_count": null,
   "id": "40d9649b",
   "metadata": {},
   "outputs": [],
   "source": []
  }
 ],
 "metadata": {
  "kernelspec": {
   "display_name": "base",
   "language": "python",
   "name": "python3"
  },
  "language_info": {
   "codemirror_mode": {
    "name": "ipython",
    "version": 3
   },
   "file_extension": ".py",
   "mimetype": "text/x-python",
   "name": "python",
   "nbconvert_exporter": "python",
   "pygments_lexer": "ipython3",
   "version": "3.11.4"
  }
 },
 "nbformat": 4,
 "nbformat_minor": 5
}
